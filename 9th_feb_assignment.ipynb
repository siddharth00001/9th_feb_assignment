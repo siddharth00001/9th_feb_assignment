{
 "cells": [
  {
   "cell_type": "markdown",
   "id": "9d7b2f9e-0dd9-4fef-a784-2e2f899c05e3",
   "metadata": {},
   "source": [
    "## Q1 Q2"
   ]
  },
  {
   "cell_type": "code",
   "execution_count": 1,
   "id": "355229bc-ae3e-4498-b970-33053b3e6384",
   "metadata": {},
   "outputs": [],
   "source": [
    "class vehicle:\n",
    "    \n",
    "    def __init__(self,name_of_vehicle,max_speed,average_of_vehicle):\n",
    "        self.name_of_vehicle = name_of_vehicle\n",
    "        self.max_speed = max_speed\n",
    "        self.average_of_vehicle = average_of_vehicle"
   ]
  },
  {
   "cell_type": "code",
   "execution_count": 2,
   "id": "9be5b5e2-0c35-48ed-a303-304261a0ff24",
   "metadata": {},
   "outputs": [],
   "source": [
    "class car(vehicle):\n",
    "        def seating_capacity(self,capacity):\n",
    "            self.capacity = capacity\n",
    "            return self.name_of_vehicle,self.capacity"
   ]
  },
  {
   "cell_type": "code",
   "execution_count": 3,
   "id": "8fd90f0c-7d60-4e06-8bb1-c7152a919bcc",
   "metadata": {},
   "outputs": [],
   "source": [
    "ford = car(\"ford\",240,20)"
   ]
  },
  {
   "cell_type": "code",
   "execution_count": 4,
   "id": "5d610c31-2e13-427f-ac5f-bff65dd1d5c0",
   "metadata": {},
   "outputs": [
    {
     "data": {
      "text/plain": [
       "('ford', 5)"
      ]
     },
     "execution_count": 4,
     "metadata": {},
     "output_type": "execute_result"
    }
   ],
   "source": [
    "ford.seating_capacity(5)"
   ]
  },
  {
   "cell_type": "markdown",
   "id": "6b9fbe3d-7d0d-4ab0-afd7-1e0b46bff2e0",
   "metadata": {},
   "source": [
    "## Q3"
   ]
  },
  {
   "cell_type": "markdown",
   "id": "8e24d8eb-b28c-4425-941a-f8472b3c19ec",
   "metadata": {},
   "source": [
    "Multiple inheritance is the process of inheriting from 2 or more parent classes and using it in child class for the method implementation inside it."
   ]
  },
  {
   "cell_type": "code",
   "execution_count": 5,
   "id": "7e099063-e311-4611-8141-b7e3cd39e9c5",
   "metadata": {},
   "outputs": [],
   "source": [
    "class parent1:\n",
    "    def do(self):\n",
    "        print(\"Hi we are under parent1 class\")\n",
    "class parent2:\n",
    "    def doagain(self):\n",
    "        print(\"Hi we are under parent2 class\")\n",
    "\n",
    "class children(parent1,parent2):\n",
    "    def print(self):\n",
    "        print(\"Hello we are under children class\")"
   ]
  },
  {
   "cell_type": "code",
   "execution_count": 6,
   "id": "b5b11c4a-72ed-4b73-9103-a154b04bec87",
   "metadata": {},
   "outputs": [
    {
     "name": "stdout",
     "output_type": "stream",
     "text": [
      "Hello we are under children class\n",
      "Hi we are under parent2 class\n",
      "Hi we are under parent1 class\n"
     ]
    }
   ],
   "source": [
    "c= children()\n",
    "c.print()\n",
    "c.doagain()\n",
    "c.do()"
   ]
  },
  {
   "cell_type": "markdown",
   "id": "cc533338-217b-4bd0-9e37-9c79e5d55a95",
   "metadata": {},
   "source": [
    "## Q4"
   ]
  },
  {
   "cell_type": "markdown",
   "id": "f5b07da2-3219-4400-941f-04fea6826ad0",
   "metadata": {},
   "source": [
    "We use getter and setters to add validation logic around getting and setting a value and to avoid direct access to the class field."
   ]
  },
  {
   "cell_type": "code",
   "execution_count": 7,
   "id": "60d96070-e862-430e-b180-eabe7cc436f8",
   "metadata": {},
   "outputs": [],
   "source": [
    "## Getter and setters can be acheived by two ways one is to provide methods and other is by using properties\n",
    "\n",
    "class font:\n",
    "    \n",
    "    def __init__(self,text,size):\n",
    "        # Non private variables\n",
    "        self._text = text \n",
    "        self._size = size\n",
    "    \n",
    "    #getter method\n",
    "    def get_text(self):\n",
    "        return self._text,self._size\n",
    "\n",
    "    #setter method\n",
    "    def set_text(self,text_new,size_new):\n",
    "        self._text = text_new\n",
    "        self._size = size_new"
   ]
  },
  {
   "cell_type": "code",
   "execution_count": 8,
   "id": "c397faa3-8270-4431-94be-051bbc39a24b",
   "metadata": {},
   "outputs": [],
   "source": [
    "ft = font(\"hello world\",24)"
   ]
  },
  {
   "cell_type": "code",
   "execution_count": 9,
   "id": "1b0458d4-c86f-4363-a397-7f4018ed12c9",
   "metadata": {},
   "outputs": [
    {
     "data": {
      "text/plain": [
       "('hello world', 24)"
      ]
     },
     "execution_count": 9,
     "metadata": {},
     "output_type": "execute_result"
    }
   ],
   "source": [
    "ft.get_text()"
   ]
  },
  {
   "cell_type": "code",
   "execution_count": 10,
   "id": "7cdd190d-ee91-45cd-977a-e4a1d819adcd",
   "metadata": {},
   "outputs": [],
   "source": [
    "ft.set_text('Hello new world',28)"
   ]
  },
  {
   "cell_type": "code",
   "execution_count": 11,
   "id": "9c857976-1a34-4540-9e12-d6751b23b140",
   "metadata": {},
   "outputs": [
    {
     "data": {
      "text/plain": [
       "('Hello new world', 28)"
      ]
     },
     "execution_count": 11,
     "metadata": {},
     "output_type": "execute_result"
    }
   ],
   "source": [
    "ft.get_text()"
   ]
  },
  {
   "cell_type": "markdown",
   "id": "3871eb0c-7b45-47cc-8bdb-fba33dea2264",
   "metadata": {},
   "source": [
    "## Q5"
   ]
  },
  {
   "cell_type": "markdown",
   "id": "da4a6959-0f2e-435f-a563-96a5ded494c4",
   "metadata": {},
   "source": [
    "Method overriding is the proccess of overiding the methods of parent class or superclass inside child class."
   ]
  },
  {
   "cell_type": "code",
   "execution_count": 12,
   "id": "519fa0c8-6eb1-430b-85a3-0dc3c7ac71d2",
   "metadata": {},
   "outputs": [],
   "source": [
    "class bird:\n",
    "    \n",
    "    def __init__(self,name):\n",
    "        self._name = name\n",
    "    \n",
    "    def retvalue(self):\n",
    "        return self._name\n",
    "    \n",
    "class ostrich(bird):\n",
    "    \n",
    "    def __init__(self,name):\n",
    "        self._name = name\n",
    "    # method overriding    \n",
    "    def retvalue(self):\n",
    "        return self._name"
   ]
  },
  {
   "cell_type": "code",
   "execution_count": 13,
   "id": "28a631aa-7da9-4bac-8843-3c87883e9431",
   "metadata": {},
   "outputs": [
    {
     "data": {
      "text/plain": [
       "'sparrow'"
      ]
     },
     "execution_count": 13,
     "metadata": {},
     "output_type": "execute_result"
    }
   ],
   "source": [
    "bobj = bird('sparrow')\n",
    "osobj = ostrich('ostrich')\n",
    "bobj.retvalue()"
   ]
  },
  {
   "cell_type": "code",
   "execution_count": 14,
   "id": "f02bb05a-9992-489a-bc74-e76074681f65",
   "metadata": {},
   "outputs": [
    {
     "data": {
      "text/plain": [
       "'ostrich'"
      ]
     },
     "execution_count": 14,
     "metadata": {},
     "output_type": "execute_result"
    }
   ],
   "source": [
    "osobj.retvalue()"
   ]
  },
  {
   "cell_type": "code",
   "execution_count": null,
   "id": "745057cc-4340-47d1-ba4c-93b967a85606",
   "metadata": {},
   "outputs": [],
   "source": []
  }
 ],
 "metadata": {
  "kernelspec": {
   "display_name": "Python 3 (ipykernel)",
   "language": "python",
   "name": "python3"
  },
  "language_info": {
   "codemirror_mode": {
    "name": "ipython",
    "version": 3
   },
   "file_extension": ".py",
   "mimetype": "text/x-python",
   "name": "python",
   "nbconvert_exporter": "python",
   "pygments_lexer": "ipython3",
   "version": "3.10.8"
  }
 },
 "nbformat": 4,
 "nbformat_minor": 5
}
